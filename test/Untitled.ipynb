{
 "cells": [
  {
   "cell_type": "code",
   "execution_count": 1,
   "metadata": {
    "scrolled": true
   },
   "outputs": [
    {
     "name": "stderr",
     "output_type": "stream",
     "text": [
      "┌ Info: Precompiling autogui [c53e5770-adb6-4a74-a117-5c6d53416deb]\n",
      "└ @ Base loading.jl:1260\n"
     ]
    }
   ],
   "source": [
    "using autogui\n",
    "using PyCall"
   ]
  },
  {
   "cell_type": "code",
   "execution_count": 20,
   "metadata": {},
   "outputs": [
    {
     "data": {
      "text/plain": [
       "PyObject <module 'pyautogui' from '/home/subhaditya/.julia/conda/3/lib/python3.7/site-packages/pyautogui/__init__.py'>"
      ]
     },
     "execution_count": 20,
     "metadata": {},
     "output_type": "execute_result"
    }
   ],
   "source": [
    "autogui2 =  pyimport(\"pyautogui\")"
   ]
  },
  {
   "cell_type": "code",
   "execution_count": 3,
   "metadata": {},
   "outputs": [
    {
     "ename": "ArgumentError",
     "evalue": "ArgumentError: ref of NULL PyObject",
     "output_type": "error",
     "traceback": [
      "ArgumentError: ref of NULL PyObject",
      "",
      "Stacktrace:",
      " [1] getproperty(::PyObject, ::String) at /home/subhaditya/.julia/packages/PyCall/zqDXB/src/PyCall.jl:296",
      " [2] getproperty(::PyObject, ::Symbol) at /home/subhaditya/.julia/packages/PyCall/zqDXB/src/PyCall.jl:306",
      " [3] alert(::String) at /media/subhaditya/DATA/GITHUB/autogui.jl/src/mainFunctions.jl:23",
      " [4] top-level scope at In[3]:1"
     ]
    }
   ],
   "source": [
    "alert(\"dj\")"
   ]
  },
  {
   "cell_type": "code",
   "execution_count": null,
   "metadata": {},
   "outputs": [],
   "source": []
  }
 ],
 "metadata": {
  "kernelspec": {
   "display_name": "Julia 1.4.1",
   "language": "julia",
   "name": "julia-1.4"
  },
  "language_info": {
   "file_extension": ".jl",
   "mimetype": "application/julia",
   "name": "julia",
   "version": "1.4.1"
  },
  "widgets": {
   "application/vnd.jupyter.widget-state+json": {
    "state": {},
    "version_major": 2,
    "version_minor": 0
   }
  }
 },
 "nbformat": 4,
 "nbformat_minor": 4
}
